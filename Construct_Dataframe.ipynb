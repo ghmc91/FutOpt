{
 "cells": [
  {
   "cell_type": "code",
   "execution_count": 6,
   "id": "automotive-aquarium",
   "metadata": {},
   "outputs": [],
   "source": [
    "import pandas as pd\n",
    "import numpy as np\n",
    "%config Completer.use_jedi = False\n",
    "\n",
    "stk_off = pd.DataFrame({'Ticker': ['EWZ US 05/29/20 P27', 'HSI US 12/30/20 C24800', 'TLT US 06/19/20 C225', 'EWZ US 05/29/20 P29', 'XLE US 05/29/20 P30'],\n",
    "                   'Instrument': ['EWZ', 'HSI', 'TLT', 'EWZ', 'EWZ'],\n",
    "                   'Maturity Label': ['MAI 20 D29', 'DEC 20 D30', 'JUN 20 D19', 'MAY 20 D29', 'MAY 20 D29'],\n",
    "                   'Strike': [27, 24800, 225, 29, 29],\n",
    "                   'Payout': ['P', 'C', 'C', 'P', 'P'],\n",
    "                   'Style': ['A', 'E', 'E', 'A', 'A'],\n",
    "                   'Maturity': ['29/05/2020', '12/30/2020', '19/06/2020', '29/05/2020', '29/05/2020'],\n",
    "                   'Market': ['US NYSE', 'US NYSE', 'HK HKSE', 'US NYSE', 'US NYSE']})\n",
    "\n",
    "stk_off['Reduced_Ticker'] = stk_off['Ticker'].apply(lambda a :\" \".join(a.split(\" \", 2)[:2]))"
   ]
  },
  {
   "cell_type": "code",
   "execution_count": 7,
   "id": "aggressive-system",
   "metadata": {},
   "outputs": [],
   "source": [
    "market_ticker = stk_off[['Market','Reduced_Ticker']].groupby(['Market']).agg(list)\n",
    "market_ticker['Reduced_Ticker'] = market_ticker['Reduced_Ticker'].apply(lambda x: pd.unique(x))\n",
    "market_ticker = market_ticker.explode('Reduced_Ticker')\n",
    "market_ticker = market_ticker.reset_index()"
   ]
  },
  {
   "cell_type": "code",
   "execution_count": 8,
   "id": "dying-georgia",
   "metadata": {},
   "outputs": [
    {
     "data": {
      "text/html": [
       "<div>\n",
       "<style scoped>\n",
       "    .dataframe tbody tr th:only-of-type {\n",
       "        vertical-align: middle;\n",
       "    }\n",
       "\n",
       "    .dataframe tbody tr th {\n",
       "        vertical-align: top;\n",
       "    }\n",
       "\n",
       "    .dataframe thead th {\n",
       "        text-align: right;\n",
       "    }\n",
       "</style>\n",
       "<table border=\"1\" class=\"dataframe\">\n",
       "  <thead>\n",
       "    <tr style=\"text-align: right;\">\n",
       "      <th></th>\n",
       "      <th>Market</th>\n",
       "      <th>Reduced_Ticker</th>\n",
       "    </tr>\n",
       "  </thead>\n",
       "  <tbody>\n",
       "    <tr>\n",
       "      <th>0</th>\n",
       "      <td>HK HKSE</td>\n",
       "      <td>TLT US</td>\n",
       "    </tr>\n",
       "    <tr>\n",
       "      <th>1</th>\n",
       "      <td>US NYSE</td>\n",
       "      <td>EWZ US</td>\n",
       "    </tr>\n",
       "    <tr>\n",
       "      <th>2</th>\n",
       "      <td>US NYSE</td>\n",
       "      <td>HSI US</td>\n",
       "    </tr>\n",
       "    <tr>\n",
       "      <th>3</th>\n",
       "      <td>US NYSE</td>\n",
       "      <td>XLE US</td>\n",
       "    </tr>\n",
       "  </tbody>\n",
       "</table>\n",
       "</div>"
      ],
      "text/plain": [
       "    Market Reduced_Ticker\n",
       "0  HK HKSE         TLT US\n",
       "1  US NYSE         EWZ US\n",
       "2  US NYSE         HSI US\n",
       "3  US NYSE         XLE US"
      ]
     },
     "execution_count": 8,
     "metadata": {},
     "output_type": "execute_result"
    }
   ],
   "source": [
    "market_ticker"
   ]
  },
  {
   "cell_type": "code",
   "execution_count": 9,
   "id": "three-transcript",
   "metadata": {},
   "outputs": [
    {
     "data": {
      "text/html": [
       "<div>\n",
       "<style scoped>\n",
       "    .dataframe tbody tr th:only-of-type {\n",
       "        vertical-align: middle;\n",
       "    }\n",
       "\n",
       "    .dataframe tbody tr th {\n",
       "        vertical-align: top;\n",
       "    }\n",
       "\n",
       "    .dataframe thead th {\n",
       "        text-align: right;\n",
       "    }\n",
       "</style>\n",
       "<table border=\"1\" class=\"dataframe\">\n",
       "  <thead>\n",
       "    <tr style=\"text-align: right;\">\n",
       "      <th></th>\n",
       "      <th>Instrument</th>\n",
       "      <th>Reduced_Ticker</th>\n",
       "    </tr>\n",
       "  </thead>\n",
       "  <tbody>\n",
       "    <tr>\n",
       "      <th>0</th>\n",
       "      <td>EWZ</td>\n",
       "      <td>EWZ US</td>\n",
       "    </tr>\n",
       "    <tr>\n",
       "      <th>1</th>\n",
       "      <td>EWZ</td>\n",
       "      <td>XLE US</td>\n",
       "    </tr>\n",
       "    <tr>\n",
       "      <th>2</th>\n",
       "      <td>HSI</td>\n",
       "      <td>HSI US</td>\n",
       "    </tr>\n",
       "    <tr>\n",
       "      <th>3</th>\n",
       "      <td>TLT</td>\n",
       "      <td>TLT US</td>\n",
       "    </tr>\n",
       "  </tbody>\n",
       "</table>\n",
       "</div>"
      ],
      "text/plain": [
       "  Instrument Reduced_Ticker\n",
       "0        EWZ         EWZ US\n",
       "1        EWZ         XLE US\n",
       "2        HSI         HSI US\n",
       "3        TLT         TLT US"
      ]
     },
     "execution_count": 9,
     "metadata": {},
     "output_type": "execute_result"
    }
   ],
   "source": [
    "instrument_ticker = stk_off[['Instrument','Reduced_Ticker']].groupby(['Instrument']).agg(list)\n",
    "instrument_ticker['Reduced_Ticker'] = instrument_ticker['Reduced_Ticker'].apply(lambda x: pd.unique(x))\n",
    "instrument_ticker = instrument_ticker.explode('Reduced_Ticker')\n",
    "instrument_ticker = instrument_ticker.reset_index()\n",
    "instrument_ticker"
   ]
  },
  {
   "cell_type": "code",
   "execution_count": 10,
   "id": "negative-printer",
   "metadata": {},
   "outputs": [
    {
     "data": {
      "text/plain": [
       "['EWZ', 'HSI']"
      ]
     },
     "execution_count": 10,
     "metadata": {},
     "output_type": "execute_result"
    }
   ],
   "source": [
    "tickers = ['EWZ US 05/29/20 C31','HSI US 12/30/20 C24900']\n",
    "tickers_reduced = [t.split()[0] for t in tickers]\n",
    "\n",
    "selection_instrument = (instrument_ticker\n",
    "             .explode('Reduced_Ticker')\n",
    "             ['Reduced_Ticker'].apply(lambda x: x.split()[0] in tickers_reduced))\n",
    "\n",
    "instrument = instrument_ticker.loc[selection_instrument].Instrument.to_list()\n",
    "instrument"
   ]
  },
  {
   "cell_type": "code",
   "execution_count": 11,
   "id": "outdoor-contrast",
   "metadata": {},
   "outputs": [
    {
     "data": {
      "text/plain": [
       "['US NYSE', 'US NYSE']"
      ]
     },
     "execution_count": 11,
     "metadata": {},
     "output_type": "execute_result"
    }
   ],
   "source": [
    "market_ticker = market_ticker.reset_index()\n",
    "selection_market = (market_ticker\n",
    "                   .explode('Reduced_Ticker')\n",
    "                   ['Reduced_Ticker'].apply(lambda x: x.split()[0] in tickers_reduced))\n",
    "\n",
    "\n",
    "market = market_ticker.loc[selection_market].Market.to_list()\n",
    "market"
   ]
  },
  {
   "cell_type": "code",
   "execution_count": 12,
   "id": "bottom-affiliate",
   "metadata": {},
   "outputs": [],
   "source": [
    "payout_strike = [t.split()[3] for t in tickers]\n",
    "payout = [p[0] for p in payout_strike]\n",
    "strike = [s[1:] for s in payout_strike]"
   ]
  },
  {
   "cell_type": "code",
   "execution_count": 13,
   "id": "greenhouse-prediction",
   "metadata": {},
   "outputs": [
    {
     "data": {
      "text/plain": [
       "['29/05/2020', '30/12/2020']"
      ]
     },
     "execution_count": 13,
     "metadata": {},
     "output_type": "execute_result"
    }
   ],
   "source": [
    "import datetime\n",
    "maturity = [datetime.datetime.strptime(x.split()[2], '%m/%d/%y').strftime('%d/%m/%Y') for x in tickers]\n",
    "maturity"
   ]
  },
  {
   "cell_type": "code",
   "execution_count": 14,
   "id": "legitimate-climb",
   "metadata": {},
   "outputs": [
    {
     "name": "stderr",
     "output_type": "stream",
     "text": [
      "/home/gustavo/Desktop/Fut_Opt/lib/python3.7/site-packages/ipykernel_launcher.py:2: FutureWarning: Your version of xlrd is 1.2.0. In xlrd >= 2.0, only the xls format is supported. As a result, the openpyxl engine will be used if it is installed and the engine argument is not specified. Install openpyxl instead.\n",
      "  \n"
     ]
    },
    {
     "data": {
      "text/html": [
       "<div>\n",
       "<style scoped>\n",
       "    .dataframe tbody tr th:only-of-type {\n",
       "        vertical-align: middle;\n",
       "    }\n",
       "\n",
       "    .dataframe tbody tr th {\n",
       "        vertical-align: top;\n",
       "    }\n",
       "\n",
       "    .dataframe thead th {\n",
       "        text-align: right;\n",
       "    }\n",
       "</style>\n",
       "<table border=\"1\" class=\"dataframe\">\n",
       "  <thead>\n",
       "    <tr style=\"text-align: right;\">\n",
       "      <th></th>\n",
       "      <th>Label</th>\n",
       "      <th>First Td</th>\n",
       "      <th>Maturity</th>\n",
       "    </tr>\n",
       "  </thead>\n",
       "  <tbody>\n",
       "    <tr>\n",
       "      <th>0</th>\n",
       "      <td>MAI 20 D29</td>\n",
       "      <td>NaN</td>\n",
       "      <td>29/05/2020</td>\n",
       "    </tr>\n",
       "    <tr>\n",
       "      <th>1</th>\n",
       "      <td>DEC 20 D30</td>\n",
       "      <td>NaN</td>\n",
       "      <td>30/12/2020</td>\n",
       "    </tr>\n",
       "  </tbody>\n",
       "</table>\n",
       "</div>"
      ],
      "text/plain": [
       "        Label  First Td    Maturity\n",
       "0  MAI 20 D29       NaN  29/05/2020\n",
       "1  DEC 20 D30       NaN  30/12/2020"
      ]
     },
     "execution_count": 14,
     "metadata": {},
     "output_type": "execute_result"
    }
   ],
   "source": [
    "import xlrd\n",
    "maturities_usnyse = pd.read_excel('/home/gustavo/Desktop/Fut_Opt/Vencimentos/US NYSE.xlsx')\n",
    "maturities_usnyse['Maturity'] = [datetime.datetime.strptime(str(x), '%Y-%m-%d %H:%M:%S').strftime('%d/%m/%Y') \n",
    "                     for x in maturities_usnyse.Maturity]\n",
    "maturities_usnyse"
   ]
  },
  {
   "cell_type": "code",
   "execution_count": 15,
   "id": "tight-cancellation",
   "metadata": {},
   "outputs": [
    {
     "data": {
      "text/plain": [
       "['MAI 20 D29', 'DEC 20 D30']"
      ]
     },
     "execution_count": 15,
     "metadata": {},
     "output_type": "execute_result"
    }
   ],
   "source": [
    "\n",
    "selection_label = (maturities_usnyse.explode('Maturity')['Maturity'].apply(lambda x: x in maturity))\n",
    "\n",
    "maturity_label = maturities_usnyse.loc[selection_label].Label.to_list()\n",
    "maturity_label"
   ]
  },
  {
   "cell_type": "code",
   "execution_count": 11,
   "id": "tamil-machine",
   "metadata": {},
   "outputs": [
    {
     "data": {
      "text/html": [
       "<div>\n",
       "<style scoped>\n",
       "    .dataframe tbody tr th:only-of-type {\n",
       "        vertical-align: middle;\n",
       "    }\n",
       "\n",
       "    .dataframe tbody tr th {\n",
       "        vertical-align: top;\n",
       "    }\n",
       "\n",
       "    .dataframe thead th {\n",
       "        text-align: right;\n",
       "    }\n",
       "</style>\n",
       "<table border=\"1\" class=\"dataframe\">\n",
       "  <thead>\n",
       "    <tr style=\"text-align: right;\">\n",
       "      <th></th>\n",
       "      <th>Ticker</th>\n",
       "      <th>Instrument</th>\n",
       "      <th>Maturity Label</th>\n",
       "      <th>Strike</th>\n",
       "      <th>Payout</th>\n",
       "      <th>Maturity</th>\n",
       "      <th>Market</th>\n",
       "    </tr>\n",
       "  </thead>\n",
       "  <tbody>\n",
       "    <tr>\n",
       "      <th>0</th>\n",
       "      <td>EWZ US 05/29/20 C31</td>\n",
       "      <td>EWZ</td>\n",
       "      <td>MAI 20 D29</td>\n",
       "      <td>31</td>\n",
       "      <td>C</td>\n",
       "      <td>29/05/2020</td>\n",
       "      <td>US NYSE</td>\n",
       "    </tr>\n",
       "    <tr>\n",
       "      <th>1</th>\n",
       "      <td>HSI US 12/30/20 C24900</td>\n",
       "      <td>HSI</td>\n",
       "      <td>DEC 20 D30</td>\n",
       "      <td>24900</td>\n",
       "      <td>C</td>\n",
       "      <td>30/12/2020</td>\n",
       "      <td>US NYSE</td>\n",
       "    </tr>\n",
       "  </tbody>\n",
       "</table>\n",
       "</div>"
      ],
      "text/plain": [
       "                   Ticker Instrument Maturity Label Strike Payout    Maturity  \\\n",
       "0     EWZ US 05/29/20 C31        EWZ     MAI 20 D29     31      C  29/05/2020   \n",
       "1  HSI US 12/30/20 C24900        HSI     DEC 20 D30  24900      C  30/12/2020   \n",
       "\n",
       "    Market  \n",
       "0  US NYSE  \n",
       "1  US NYSE  "
      ]
     },
     "execution_count": 11,
     "metadata": {},
     "output_type": "execute_result"
    }
   ],
   "source": [
    "df_to_upload = pd.DataFrame()\n",
    "\n",
    "df_to_upload['Ticker'] = tickers\n",
    "df_to_upload['Instrument'] = instrument\n",
    "df_to_upload['Maturity Label'] = maturity_label\n",
    "df_to_upload['Strike'] = strike\n",
    "df_to_upload['Payout'] = payout\n",
    "df_to_upload['Maturity'] = maturity\n",
    "df_to_upload['Market'] = market\n",
    "df_to_upload['']\n",
    "\n",
    "df_to_upload"
   ]
  },
  {
   "cell_type": "code",
   "execution_count": 18,
   "id": "informed-services",
   "metadata": {},
   "outputs": [],
   "source": [
    "def style(df):\n",
    "    df['Style'] = ''\n",
    "    for x in df['Market']:\n",
    "        if x == 'US NYSE':\n",
    "            df['Style'] = 'A'\n",
    "        else:\n",
    "            df['Style'] = 'E'\n",
    "    \n",
    "    return df"
   ]
  },
  {
   "cell_type": "code",
   "execution_count": 19,
   "id": "sitting-split",
   "metadata": {},
   "outputs": [
    {
     "data": {
      "text/html": [
       "<div>\n",
       "<style scoped>\n",
       "    .dataframe tbody tr th:only-of-type {\n",
       "        vertical-align: middle;\n",
       "    }\n",
       "\n",
       "    .dataframe tbody tr th {\n",
       "        vertical-align: top;\n",
       "    }\n",
       "\n",
       "    .dataframe thead th {\n",
       "        text-align: right;\n",
       "    }\n",
       "</style>\n",
       "<table border=\"1\" class=\"dataframe\">\n",
       "  <thead>\n",
       "    <tr style=\"text-align: right;\">\n",
       "      <th></th>\n",
       "      <th>Ticker</th>\n",
       "      <th>Instrument</th>\n",
       "      <th>Maturity Label</th>\n",
       "      <th>Strike</th>\n",
       "      <th>Payout</th>\n",
       "      <th>Maturity</th>\n",
       "      <th>Market</th>\n",
       "      <th>Style</th>\n",
       "    </tr>\n",
       "  </thead>\n",
       "  <tbody>\n",
       "    <tr>\n",
       "      <th>0</th>\n",
       "      <td>EWZ US 05/29/20 C31</td>\n",
       "      <td>EWZ</td>\n",
       "      <td>MAI 20 D29</td>\n",
       "      <td>31</td>\n",
       "      <td>C</td>\n",
       "      <td>29/05/2020</td>\n",
       "      <td>US NYSE</td>\n",
       "      <td>A</td>\n",
       "    </tr>\n",
       "    <tr>\n",
       "      <th>1</th>\n",
       "      <td>HSI US 12/30/20 C24900</td>\n",
       "      <td>HSI</td>\n",
       "      <td>DEC 20 D30</td>\n",
       "      <td>24900</td>\n",
       "      <td>C</td>\n",
       "      <td>30/12/2020</td>\n",
       "      <td>US NYSE</td>\n",
       "      <td>A</td>\n",
       "    </tr>\n",
       "  </tbody>\n",
       "</table>\n",
       "</div>"
      ],
      "text/plain": [
       "                   Ticker Instrument Maturity Label Strike Payout    Maturity  \\\n",
       "0     EWZ US 05/29/20 C31        EWZ     MAI 20 D29     31      C  29/05/2020   \n",
       "1  HSI US 12/30/20 C24900        HSI     DEC 20 D30  24900      C  30/12/2020   \n",
       "\n",
       "    Market Style  \n",
       "0  US NYSE     A  \n",
       "1  US NYSE     A  "
      ]
     },
     "execution_count": 19,
     "metadata": {},
     "output_type": "execute_result"
    }
   ],
   "source": [
    "df_to_upload = style(df_to_upload)\n",
    "df_to_upload"
   ]
  }
 ],
 "metadata": {
  "kernelspec": {
   "display_name": "Python 3",
   "language": "python",
   "name": "python3"
  },
  "language_info": {
   "codemirror_mode": {
    "name": "ipython",
    "version": 3
   },
   "file_extension": ".py",
   "mimetype": "text/x-python",
   "name": "python",
   "nbconvert_exporter": "python",
   "pygments_lexer": "ipython3",
   "version": "3.7.3"
  }
 },
 "nbformat": 4,
 "nbformat_minor": 5
}
