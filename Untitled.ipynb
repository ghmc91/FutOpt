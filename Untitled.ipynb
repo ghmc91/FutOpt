{
 "cells": [
  {
   "cell_type": "code",
   "execution_count": 9,
   "id": "expensive-architecture",
   "metadata": {},
   "outputs": [
    {
     "data": {
      "text/plain": [
       "['EWZ US 05/29/20 C31', 'HSI US 12/30/20 C24900']"
      ]
     },
     "execution_count": 9,
     "metadata": {},
     "output_type": "execute_result"
    }
   ],
   "source": [
    "import re\n",
    "\n",
    "tickers = ['EWZ US 05/29/20 C31','HSI US 12/30/20 C24900', 'SKG1C 24', 'S H1P 49']\n",
    "\n",
    "rx = re.compile(r'\\d+/\\d+/\\d+')\n",
    "tickers_stk = (list(filter(rx.search, tickers)))\n",
    "tickers_stk"
   ]
  }
 ],
 "metadata": {
  "kernelspec": {
   "display_name": "Python 3",
   "language": "python",
   "name": "python3"
  },
  "language_info": {
   "codemirror_mode": {
    "name": "ipython",
    "version": 3
   },
   "file_extension": ".py",
   "mimetype": "text/x-python",
   "name": "python",
   "nbconvert_exporter": "python",
   "pygments_lexer": "ipython3",
   "version": "3.7.3"
  }
 },
 "nbformat": 4,
 "nbformat_minor": 5
}
