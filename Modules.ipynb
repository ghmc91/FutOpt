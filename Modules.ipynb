{
 "cells": [
  {
   "cell_type": "code",
   "execution_count": 1,
   "id": "certain-joint",
   "metadata": {},
   "outputs": [],
   "source": [
    "import pandas as pd\n",
    "import numpy as np\n",
    "import datetime\n",
    "import xlrd\n",
    "%config Completer.use_jedi = False"
   ]
  },
  {
   "cell_type": "code",
   "execution_count": 2,
   "id": "martial-vinyl",
   "metadata": {},
   "outputs": [],
   "source": [
    "stk_off = pd.DataFrame({'Ticker': ['EWZ US 05/29/20 P27', 'HSI US 12/30/20 C24800', 'TLT US 06/19/20 C225', 'EWZ US 05/29/20 P29', 'XLE US 05/29/20 P30'],\n",
    "                   'Instrument': ['EWZ', 'HSI', 'TLT', 'EWZ', 'EWZ'],\n",
    "                   'Maturity Label': ['MAI 20 D29', 'DEC 20 D30', 'JUN 20 D19', 'MAY 20 D29', 'MAY 20 D29'],\n",
    "                   'Strike': [27, 24800, 225, 29, 29],\n",
    "                   'Payout': ['P', 'C', 'C', 'P', 'P'],\n",
    "                   'Style': ['A', 'E', 'E', 'A', 'A'],\n",
    "                   'Maturity': ['29/05/2020', '12/30/2020', '19/06/2020', '29/05/2020', '29/05/2020'],\n",
    "                   'Market': ['US NYSE', 'US NYSE', 'HK HKSE', 'US NYSE', 'US NYSE']})\n",
    "\n",
    "stk_off_original = stk_off.copy()\n",
    "\n",
    "stk_off['Reduced_Ticker'] = stk_off['Ticker'].apply(lambda a :\" \".join(a.split(\" \", 2)[:1]))"
   ]
  },
  {
   "cell_type": "code",
   "execution_count": 4,
   "id": "after-sender",
   "metadata": {},
   "outputs": [],
   "source": [
    "stk_off_original.to_excel('/home/gustavo/Desktop/Fut_Opt/Bases/Ticker_Off.xlsx', index=False)"
   ]
  },
  {
   "cell_type": "code",
   "execution_count": 5,
   "id": "realistic-economy",
   "metadata": {},
   "outputs": [],
   "source": [
    "def organize_df(df):\n",
    "    df = df[['Ticker', 'Instrument', 'Maturity Label', 'Strike', 'Payout', 'Style', 'Maturity', 'Market']]\n",
    "    return df"
   ]
  },
  {
   "cell_type": "code",
   "execution_count": 6,
   "id": "ultimate-relay",
   "metadata": {},
   "outputs": [],
   "source": [
    "def market_ticker(stk_off):\n",
    "    market_ticker_var = stk_off[['Market','Reduced_Ticker']].groupby(['Market']).agg(list)\n",
    "    market_ticker_var['Reduced_Ticker'] = market_ticker_var['Reduced_Ticker'].apply(lambda x: pd.unique(x))\n",
    "    market_ticker_var = market_ticker_var.explode('Reduced_Ticker')\n",
    "    market_ticker_var = market_ticker_var.reset_index()\n",
    "    \n",
    "    market_ticker_var.to_excel('/home/gustavo/Desktop/Fut_Opt/Bases/Market_Ticker.xlsx', index=False)"
   ]
  },
  {
   "cell_type": "code",
   "execution_count": 7,
   "id": "fewer-slope",
   "metadata": {},
   "outputs": [],
   "source": [
    "market_ticker(stk_off)"
   ]
  },
  {
   "cell_type": "code",
   "execution_count": 8,
   "id": "future-empty",
   "metadata": {},
   "outputs": [],
   "source": [
    "def market_column(market_ticker, tickers, df):\n",
    "    tickers_reduced = [t.split()[0] for t in tickers]\n",
    "    \n",
    "    selection_market = (market_ticker\n",
    "                   .explode('Reduced_Ticker')\n",
    "                   ['Reduced_Ticker'].apply(lambda x: x.split()[0] in tickers_reduced))\n",
    "\n",
    "\n",
    "    market = market_ticker.loc[selection_market].Market.to_list()\n",
    "        \n",
    "    df['Market'] = market\n",
    "    \n",
    "    return df"
   ]
  },
  {
   "cell_type": "code",
   "execution_count": 9,
   "id": "historical-vintage",
   "metadata": {},
   "outputs": [],
   "source": [
    "def instrument_ticker(stk_off):\n",
    "    instrument_ticker_var = stk_off[['Instrument','Reduced_Ticker']].groupby(['Instrument']).agg(list)\n",
    "    instrument_ticker_var['Reduced_Ticker'] = instrument_ticker_var['Reduced_Ticker'].apply(lambda x: pd.unique(x))\n",
    "    instrument_ticker_var = instrument_ticker_var.explode('Reduced_Ticker')\n",
    "    instrument_ticker_var = instrument_ticker_var.reset_index()\n",
    "    \n",
    "    instrument_ticker_var.to_excel('/home/gustavo/Desktop/Fut_Opt/Bases/Instrument_Ticker.xlsx', index=False)"
   ]
  },
  {
   "cell_type": "code",
   "execution_count": 10,
   "id": "stock-collar",
   "metadata": {},
   "outputs": [],
   "source": [
    "instrument_ticker(stk_off)"
   ]
  },
  {
   "cell_type": "code",
   "execution_count": 11,
   "id": "apparent-italic",
   "metadata": {},
   "outputs": [],
   "source": [
    "def instrument_column(instrument_ticker, tickers, df):\n",
    "    tickers_reduced = [t.split()[0] for t in tickers]\n",
    "        \n",
    "    selection_instrument = (instrument_ticker\n",
    "             .explode('Reduced_Ticker')\n",
    "             ['Reduced_Ticker'].apply(lambda x: x.split()[0] in tickers_reduced))\n",
    "\n",
    "    instrument = instrument_ticker.loc[selection_instrument].Instrument.to_list()\n",
    "     \n",
    "    df['Instrument'] = instrument\n",
    "\n",
    "    return df"
   ]
  },
  {
   "cell_type": "code",
   "execution_count": 12,
   "id": "written-earthquake",
   "metadata": {},
   "outputs": [],
   "source": [
    "def style(df):\n",
    "    df['Style'] = ''\n",
    "    for x in df['Market']:\n",
    "        if x == 'US NYSE':\n",
    "            df['Style'] = 'A'\n",
    "        else:\n",
    "            df['Style'] = 'E'\n",
    "    \n",
    "    return df"
   ]
  },
  {
   "cell_type": "code",
   "execution_count": 13,
   "id": "streaming-anderson",
   "metadata": {},
   "outputs": [],
   "source": [
    "def payout_strike(df, tickers):\n",
    "    payout_strike = [t.split()[3] for t in tickers]\n",
    "    df['Payout'] = [p[0] for p in payout_strike]\n",
    "    df['Strike'] = [s[1:] for s in payout_strike]\n",
    "    \n",
    "    return df"
   ]
  },
  {
   "cell_type": "code",
   "execution_count": 14,
   "id": "backed-recycling",
   "metadata": {},
   "outputs": [],
   "source": [
    "def maturity(df):\n",
    "    df['Maturity'] = [datetime.datetime.strptime(x.split()[2], '%m/%d/%y').strftime('%d/%m/%Y') for x in df['Ticker']]\n",
    "    return df"
   ]
  },
  {
   "cell_type": "code",
   "execution_count": 23,
   "id": "casual-billion",
   "metadata": {},
   "outputs": [],
   "source": [
    "def read_maturities(market):\n",
    "    \n",
    "    if market == 'US NYSE':        \n",
    "        maturities = pd.read_excel('/home/gustavo/Desktop/Fut_Opt/Vencimentos/US NYSE.xlsx')\n",
    "        maturities['Maturity'] = [datetime.datetime.strptime(str(x), '%Y-%m-%d %H:%M:%S').strftime('%d/%m/%Y') \n",
    "                     for x in maturities.Maturity]\n",
    "        return maturities\n",
    "    else:\n",
    "        maturities = pd.read_excel('/home/gustavo/Desktop/Fut_Opt/Vencimentos/HK HKSE.xlsx')\n",
    "        maturities['Maturity'] = [datetime.datetime.strptime(str(x), '%Y-%m-%d %H:%M:%S').strftime('%d/%m/%Y') \n",
    "                     for x in maturities.Maturity]\n",
    "        return maturities\n",
    "        "
   ]
  },
  {
   "cell_type": "code",
   "execution_count": 24,
   "id": "foster-receiver",
   "metadata": {},
   "outputs": [
    {
     "data": {
      "text/html": [
       "<div>\n",
       "<style scoped>\n",
       "    .dataframe tbody tr th:only-of-type {\n",
       "        vertical-align: middle;\n",
       "    }\n",
       "\n",
       "    .dataframe tbody tr th {\n",
       "        vertical-align: top;\n",
       "    }\n",
       "\n",
       "    .dataframe thead th {\n",
       "        text-align: right;\n",
       "    }\n",
       "</style>\n",
       "<table border=\"1\" class=\"dataframe\">\n",
       "  <thead>\n",
       "    <tr style=\"text-align: right;\">\n",
       "      <th></th>\n",
       "      <th>Label</th>\n",
       "      <th>First Td</th>\n",
       "      <th>Maturity</th>\n",
       "    </tr>\n",
       "  </thead>\n",
       "  <tbody>\n",
       "    <tr>\n",
       "      <th>0</th>\n",
       "      <td>MAI 20 D29</td>\n",
       "      <td>NaN</td>\n",
       "      <td>29/05/2020</td>\n",
       "    </tr>\n",
       "    <tr>\n",
       "      <th>1</th>\n",
       "      <td>DEC 20 D30</td>\n",
       "      <td>NaN</td>\n",
       "      <td>30/12/2020</td>\n",
       "    </tr>\n",
       "  </tbody>\n",
       "</table>\n",
       "</div>"
      ],
      "text/plain": [
       "        Label  First Td    Maturity\n",
       "0  MAI 20 D29       NaN  29/05/2020\n",
       "1  DEC 20 D30       NaN  30/12/2020"
      ]
     },
     "execution_count": 24,
     "metadata": {},
     "output_type": "execute_result"
    }
   ],
   "source": [
    "x = read_maturities('US NYSE')\n",
    "x"
   ]
  },
  {
   "cell_type": "code",
   "execution_count": 30,
   "id": "technological-addiction",
   "metadata": {},
   "outputs": [],
   "source": [
    "def maturity_label(df, tickers):    \n",
    "    date = [t.split()[2] for t in tickers]\n",
    "    \n",
    "    for m in df['Market']:\n",
    "        maturities = read_maturities(m)\n",
    "        if maturities['Maturity'].str.contains(m).any():\n",
    "            selection_label = (maturities.explode('Maturity')['Maturity'].apply(lambda x: x in df['Maturity'].to_list()))                                                                                           \n",
    "            df['Maturity Label'] = maturities_usnyse.loc[selection_label].Label.to_list()\n",
    "        else:\n",
    "            maturity_label = input('Data de Vencimento não cadastrada.\\nInforme o Maturity Label:')\n",
    "            df['Maturity Label'] = maturity_label\n",
    "    return df"
   ]
  },
  {
   "cell_type": "code",
   "execution_count": 35,
   "id": "unknown-wheel",
   "metadata": {},
   "outputs": [],
   "source": [
    "def file_to_upload(tickers):\n",
    "    \n",
    "    stk_off = pd.read_excel('/home/gustavo/Desktop/Fut_Opt/Bases/Ticker_Off.xlsx')\n",
    "    stk_off_original = stk_off.copy()\n",
    "    stk_off['Reduced_Ticker'] = stk_off['Ticker'].apply(lambda a :\" \".join(a.split(\" \", 2)[:2]))    \n",
    "    tickers_to_upload = []\n",
    "    msg = []\n",
    "    \n",
    "    for t in tickers:\n",
    "        if stk_off_original['Ticker'].str.contains(t).any():\n",
    "            msg.append('Ticker ' + t + ' já consta na base') \n",
    "        else:\n",
    "            tickers_to_upload.append(t)         \n",
    "            \n",
    "    \n",
    "    if not tickers_to_upload:\n",
    "        msg.append(\"Os Tickers abaixo já constam na base\")\n",
    "        return tickers, msg[-1]\n",
    "    \n",
    "    df_to_upload = pd.DataFrame()\n",
    "    df_to_upload['Ticker'] = tickers_to_upload\n",
    "\n",
    "    market_ticker_var = pd.read_excel('/home/gustavo/Desktop/Fut_Opt/Bases/Market_Ticker.xlsx')\n",
    "    df_to_upload = market_column(market_ticker_var, tickers_to_upload, df_to_upload)\n",
    "\n",
    "    instrument_ticker_var = pd.read_excel('/home/gustavo/Desktop/Fut_Opt/Bases/Instrument_Ticker.xlsx')\n",
    "    df_to_upload = instrument_column(instrument_ticker_var, tickers_to_upload, df_to_upload)\n",
    "\n",
    "    df_to_upload = style(df_to_upload)\n",
    "\n",
    "    df_to_upload = payout_strike(df_to_upload, tickers_to_upload)\n",
    "\n",
    "    df_to_upload = maturity(df_to_upload)\n",
    "    df_to_upload = maturity_label(df_to_upload,tickers)\n",
    "    df_to_upload = organize_df(df_to_upload)\n",
    "    \n",
    "    stk_off_original = stk_off_original.append(df_to_upload, ignore_index=True)\n",
    "    \n",
    "    df_to_upload.to_excel('/home/gustavo/Desktop/Fut_Opt/Upload/Arquivo_para_upload.xlsx', index=False)\n",
    "    stk_off_original.to_excel('/home/gustavo/Desktop/Fut_Opt/Bases/Ticker_Off.xlsx', index=False)\n",
    "    \n",
    "\n",
    "    return df_to_upload, msg"
   ]
  },
  {
   "cell_type": "code",
   "execution_count": 36,
   "id": "infrared-threat",
   "metadata": {},
   "outputs": [],
   "source": [
    "def verify_ticker_by_Market(tickers):\n",
    "    tic = [t.split()[0] for t in tickers]\n",
    "    market_ticker = pd.read_excel('/home/gustavo/Desktop/Fut_Opt/Bases/Market_Ticker.xlsx')\n",
    "    instrument_ticker = pd.read_excel('/home/gustavo/Desktop/Fut_Opt/Bases/Instrument_Ticker.xlsx')\n",
    "    for t in tic:\n",
    "        if market_ticker['Reduced_Ticker'].str.contains(t).any():\n",
    "            pass\n",
    "        else:\n",
    "            market = input(\"Não há nenhum mercado associado ao ticker \" + t + \".\\n Informe o Mercado:\")\n",
    "            to_add = [market, t]\n",
    "            market_ticker.loc[len(market_ticker)] = to_add\n",
    "            market_ticker.to_excel('/home/gustavo/Desktop/Fut_Opt/Bases/Market_Ticker.xlsx', index=False)\n",
    "        if instrument_ticker['Reduced_Ticker'].str.contains(t).any():\n",
    "            pass\n",
    "        else:\n",
    "            instrument = input(\"Não há nenhum instrumento associado ao ticker \" + t + \".\\n Informe o Instrumento:\")\n",
    "            to_add = [instrument, t]\n",
    "            instrument_ticker.loc[len(instrument_ticker)] = to_add\n",
    "            instrument_ticker.to_excel('/home/gustavo/Desktop/Fut_Opt/Bases/Instrument_Ticker.xlsx', index=False)        \n",
    "            \n",
    "            "
   ]
  },
  {
   "cell_type": "code",
   "execution_count": 37,
   "id": "photographic-voltage",
   "metadata": {},
   "outputs": [
    {
     "name": "stdout",
     "output_type": "stream",
     "text": [
      "Data de Vencimento não cadastrada.\n",
      "Informe o Maturity Label:DEC 21 D30\n",
      "['Ticker EWW US 05/29/20 P37 já consta na base']\n"
     ]
    },
    {
     "data": {
      "text/html": [
       "<div>\n",
       "<style scoped>\n",
       "    .dataframe tbody tr th:only-of-type {\n",
       "        vertical-align: middle;\n",
       "    }\n",
       "\n",
       "    .dataframe tbody tr th {\n",
       "        vertical-align: top;\n",
       "    }\n",
       "\n",
       "    .dataframe thead th {\n",
       "        text-align: right;\n",
       "    }\n",
       "</style>\n",
       "<table border=\"1\" class=\"dataframe\">\n",
       "  <thead>\n",
       "    <tr style=\"text-align: right;\">\n",
       "      <th></th>\n",
       "      <th>Ticker</th>\n",
       "      <th>Instrument</th>\n",
       "      <th>Maturity Label</th>\n",
       "      <th>Strike</th>\n",
       "      <th>Payout</th>\n",
       "      <th>Style</th>\n",
       "      <th>Maturity</th>\n",
       "      <th>Market</th>\n",
       "    </tr>\n",
       "  </thead>\n",
       "  <tbody>\n",
       "    <tr>\n",
       "      <th>0</th>\n",
       "      <td>HSI US 12/30/21 C24880</td>\n",
       "      <td>HSI</td>\n",
       "      <td>DEC 21 D30</td>\n",
       "      <td>24880</td>\n",
       "      <td>C</td>\n",
       "      <td>A</td>\n",
       "      <td>30/12/2021</td>\n",
       "      <td>US NYSE</td>\n",
       "    </tr>\n",
       "  </tbody>\n",
       "</table>\n",
       "</div>"
      ],
      "text/plain": [
       "                   Ticker Instrument Maturity Label Strike Payout Style  \\\n",
       "0  HSI US 12/30/21 C24880        HSI     DEC 21 D30  24880      C     A   \n",
       "\n",
       "     Maturity   Market  \n",
       "0  30/12/2021  US NYSE  "
      ]
     },
     "execution_count": 37,
     "metadata": {},
     "output_type": "execute_result"
    }
   ],
   "source": [
    "tickers = ['EWW US 05/29/20 P37', 'HSI US 12/30/21 C24880']\n",
    "verify_ticker_by_Market(tickers)\n",
    "x,y = file_to_upload(tickers)\n",
    "print(y)\n",
    "x"
   ]
  }
 ],
 "metadata": {
  "kernelspec": {
   "display_name": "Python 3",
   "language": "python",
   "name": "python3"
  },
  "language_info": {
   "codemirror_mode": {
    "name": "ipython",
    "version": 3
   },
   "file_extension": ".py",
   "mimetype": "text/x-python",
   "name": "python",
   "nbconvert_exporter": "python",
   "pygments_lexer": "ipython3",
   "version": "3.7.3"
  }
 },
 "nbformat": 4,
 "nbformat_minor": 5
}
