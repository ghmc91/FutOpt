{
 "cells": [
  {
   "cell_type": "code",
   "execution_count": 3,
   "id": "pregnant-mambo",
   "metadata": {},
   "outputs": [
    {
     "name": "stdout",
     "output_type": "stream",
     "text": [
      "Os Tickers abaixo já constam na base\n"
     ]
    },
    {
     "data": {
      "text/plain": [
       "['EWW US 05/29/20 P37', 'HSI US 12/30/20 C24880']"
      ]
     },
     "execution_count": 3,
     "metadata": {},
     "output_type": "execute_result"
    }
   ],
   "source": [
    "%config Completer.use_jedi = False\n",
    "import nbimporter\n",
    "import Modules\n",
    "\n",
    "tickers = ['EWW US 05/29/20 P37', 'HSI US 12/30/20 C24880']\n",
    "Modules.verify_ticker_by_Market(tickers)\n",
    "x,y = Modules.file_to_upload(tickers)\n",
    "print(y)\n",
    "x"
   ]
  }
 ],
 "metadata": {
  "kernelspec": {
   "display_name": "Python 3",
   "language": "python",
   "name": "python3"
  },
  "language_info": {
   "codemirror_mode": {
    "name": "ipython",
    "version": 3
   },
   "file_extension": ".py",
   "mimetype": "text/x-python",
   "name": "python",
   "nbconvert_exporter": "python",
   "pygments_lexer": "ipython3",
   "version": "3.7.3"
  }
 },
 "nbformat": 4,
 "nbformat_minor": 5
}
